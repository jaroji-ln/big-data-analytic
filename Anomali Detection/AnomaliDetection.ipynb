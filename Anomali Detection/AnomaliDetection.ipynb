{
 "cells": [
  {
   "cell_type": "markdown",
   "id": "0429d386-eb4a-40d1-a935-30b7f27a0f1e",
   "metadata": {},
   "source": [
    "# Load data set"
   ]
  },
  {
   "cell_type": "code",
   "execution_count": 1,
   "id": "e1372ffe-834c-4f9a-b634-41629f157153",
   "metadata": {},
   "outputs": [],
   "source": [
    "# Re-importing the necessary libraries and re-defining the file path as the code execution state was reset.\n",
    "import pandas as pd\n",
    "from pyspark.sql import SparkSession\n",
    "from pyspark.ml.feature import StringIndexer, VectorAssembler\n",
    "from pyspark.ml.clustering import KMeans"
   ]
  },
  {
   "cell_type": "code",
   "execution_count": 2,
   "id": "2a189f28-c40e-4c5b-9d9f-19b600e199ff",
   "metadata": {},
   "outputs": [],
   "source": [
    "# File path\n",
    "file_path = 'network_traffic.csv'"
   ]
  },
  {
   "cell_type": "code",
   "execution_count": 3,
   "id": "704ddd00-8c8a-479f-ab03-2246852aa1b1",
   "metadata": {},
   "outputs": [
    {
     "name": "stdout",
     "output_type": "stream",
     "text": [
      "23/11/20 11:47:09 WARN SparkSession: Using an existing Spark session; only runtime SQL configurations will take effect.\n"
     ]
    }
   ],
   "source": [
    "# Initialize Spark Session\n",
    "spark = SparkSession.builder.appName(\"NetworkAnomalyDetection\").getOrCreate()\n"
   ]
  },
  {
   "cell_type": "code",
   "execution_count": 11,
   "id": "b8a8663e-f0ec-449d-9635-21eb6ccf6267",
   "metadata": {},
   "outputs": [
    {
     "name": "stdout",
     "output_type": "stream",
     "text": [
      "+---+--------------------+--------------+--------------+--------+------+--------------------+\n",
      "|No.|                Time|        Source|   Destination|Protocol|Length|                Info|\n",
      "+---+--------------------+--------------+--------------+--------+------+--------------------+\n",
      "|  1|2023-11-20 12:50:...|  192.168.43.9|178.34.151.191|     UDP|   146|6881  >  9984 Len...|\n",
      "|  2|2023-11-20 12:50:...|178.34.151.191|  192.168.43.9|     UDP|   359|9984  >  6881 Len...|\n",
      "|  3|2023-11-20 12:50:...| 54.240.168.28|  192.168.43.9| TLSv1.2|    85|     Encrypted Alert|\n",
      "|  4|2023-11-20 12:50:...| 54.240.168.28|  192.168.43.9|     TCP|    54|443  >  50356 [FI...|\n",
      "|  5|2023-11-20 12:50:...| 54.240.168.61|  192.168.43.9| TLSv1.2|   100|    Application Data|\n",
      "+---+--------------------+--------------+--------------+--------+------+--------------------+\n",
      "only showing top 5 rows\n",
      "\n"
     ]
    }
   ],
   "source": [
    "# Load data\n",
    "df = spark.read.csv(file_path, header=True, inferSchema=True)\n",
    "df.show(5)"
   ]
  },
  {
   "cell_type": "markdown",
   "id": "4f481ea8-6525-4304-8792-e407fceb8a69",
   "metadata": {},
   "source": [
    "# Data Preprocessing"
   ]
  },
  {
   "cell_type": "code",
   "execution_count": 12,
   "id": "7d0cbac7-c5a1-4572-a2d5-16daf46aa82a",
   "metadata": {},
   "outputs": [
    {
     "name": "stdout",
     "output_type": "stream",
     "text": [
      "+---+--------------------+--------------+--------------+--------+------+--------------------+-------------+\n",
      "|No.|                Time|        Source|   Destination|Protocol|Length|                Info|ProtocolIndex|\n",
      "+---+--------------------+--------------+--------------+--------+------+--------------------+-------------+\n",
      "|  1|2023-11-20 12:50:...|  192.168.43.9|178.34.151.191|     UDP|   146|6881  >  9984 Len...|          2.0|\n",
      "|  2|2023-11-20 12:50:...|178.34.151.191|  192.168.43.9|     UDP|   359|9984  >  6881 Len...|          2.0|\n",
      "|  3|2023-11-20 12:50:...| 54.240.168.28|  192.168.43.9| TLSv1.2|    85|     Encrypted Alert|          3.0|\n",
      "|  4|2023-11-20 12:50:...| 54.240.168.28|  192.168.43.9|     TCP|    54|443  >  50356 [FI...|          0.0|\n",
      "|  5|2023-11-20 12:50:...| 54.240.168.61|  192.168.43.9| TLSv1.2|   100|    Application Data|          3.0|\n",
      "+---+--------------------+--------------+--------------+--------+------+--------------------+-------------+\n",
      "only showing top 5 rows\n",
      "\n"
     ]
    }
   ],
   "source": [
    "# Convert categorical columns to numeric\n",
    "indexer = StringIndexer(inputCol=\"Protocol\", outputCol=\"ProtocolIndex\")\n",
    "df = indexer.fit(df).transform(df)\n",
    "df.show(5)"
   ]
  },
  {
   "cell_type": "code",
   "execution_count": 16,
   "id": "9c0ea7ee-67a4-4a9d-b731-0e5fb953563d",
   "metadata": {},
   "outputs": [
    {
     "name": "stdout",
     "output_type": "stream",
     "text": [
      "+---+--------------------+--------------+--------------+--------+------+--------------------+-------------+-----------+\n",
      "|No.|                Time|        Source|   Destination|Protocol|Length|                Info|ProtocolIndex|   features|\n",
      "+---+--------------------+--------------+--------------+--------+------+--------------------+-------------+-----------+\n",
      "|  1|2023-11-20 12:50:...|  192.168.43.9|178.34.151.191|     UDP|   146|6881  >  9984 Len...|          2.0|[146.0,2.0]|\n",
      "|  2|2023-11-20 12:50:...|178.34.151.191|  192.168.43.9|     UDP|   359|9984  >  6881 Len...|          2.0|[359.0,2.0]|\n",
      "|  3|2023-11-20 12:50:...| 54.240.168.28|  192.168.43.9| TLSv1.2|    85|     Encrypted Alert|          3.0| [85.0,3.0]|\n",
      "|  4|2023-11-20 12:50:...| 54.240.168.28|  192.168.43.9|     TCP|    54|443  >  50356 [FI...|          0.0| [54.0,0.0]|\n",
      "|  5|2023-11-20 12:50:...| 54.240.168.61|  192.168.43.9| TLSv1.2|   100|    Application Data|          3.0|[100.0,3.0]|\n",
      "+---+--------------------+--------------+--------------+--------+------+--------------------+-------------+-----------+\n",
      "only showing top 5 rows\n",
      "\n"
     ]
    }
   ],
   "source": [
    "# Preprocess data (using Length and ProtocolIndex)\n",
    "assembler = VectorAssembler(inputCols=['Length', 'ProtocolIndex'], outputCol='features')\n",
    "df_vector = assembler.transform(df)\n",
    "df_vector.show(5)"
   ]
  },
  {
   "cell_type": "markdown",
   "id": "8692a770-d96a-4ef0-aaa8-4afecd4c18af",
   "metadata": {},
   "source": [
    "# Deteksi anomali dengan K-Means clustering"
   ]
  },
  {
   "cell_type": "code",
   "execution_count": 64,
   "id": "476ba576-a808-4ab0-a8b0-42d6a08b95db",
   "metadata": {},
   "outputs": [],
   "source": [
    "# K-Means model for anomaly detection\n",
    "kmeans = KMeans().setK(3).setSeed(1)\n",
    "model = kmeans.fit(df_vector)"
   ]
  },
  {
   "cell_type": "code",
   "execution_count": 65,
   "id": "caa588f5-c167-4dfa-b73c-ac58adf1816f",
   "metadata": {},
   "outputs": [],
   "source": [
    "# Cluster results\n",
    "predictions = model.transform(df_vector)"
   ]
  },
  {
   "cell_type": "code",
   "execution_count": 66,
   "id": "de6fefc2-462f-40c4-a09c-7a6879187d25",
   "metadata": {},
   "outputs": [
    {
     "name": "stdout",
     "output_type": "stream",
     "text": [
      "+---+--------------------+--------------+--------------+--------+------+--------------------+-------------+-----------+----------+\n",
      "|No.|                Time|        Source|   Destination|Protocol|Length|                Info|ProtocolIndex|   features|prediction|\n",
      "+---+--------------------+--------------+--------------+--------+------+--------------------+-------------+-----------+----------+\n",
      "|  1|2023-11-20 12:50:...|  192.168.43.9|178.34.151.191|     UDP|   146|6881  >  9984 Len...|          2.0|[146.0,2.0]|         0|\n",
      "|  2|2023-11-20 12:50:...|178.34.151.191|  192.168.43.9|     UDP|   359|9984  >  6881 Len...|          2.0|[359.0,2.0]|         0|\n",
      "|  3|2023-11-20 12:50:...| 54.240.168.28|  192.168.43.9| TLSv1.2|    85|     Encrypted Alert|          3.0| [85.0,3.0]|         0|\n",
      "|  4|2023-11-20 12:50:...| 54.240.168.28|  192.168.43.9|     TCP|    54|443  >  50356 [FI...|          0.0| [54.0,0.0]|         0|\n",
      "|  5|2023-11-20 12:50:...| 54.240.168.61|  192.168.43.9| TLSv1.2|   100|    Application Data|          3.0|[100.0,3.0]|         0|\n",
      "|  6|2023-11-20 12:50:...| 54.240.168.61|  192.168.43.9| TLSv1.2|    85|     Encrypted Alert|          3.0| [85.0,3.0]|         0|\n",
      "|  7|2023-11-20 12:50:...| 54.240.168.28|  192.168.43.9|     TCP|    54|[TCP Out-Of-Order...|          0.0| [54.0,0.0]|         0|\n",
      "|  8|2023-11-20 12:50:...|  192.168.43.9| 54.240.168.28|     TCP|    54|50356  >  443 [AC...|          0.0| [54.0,0.0]|         0|\n",
      "|  9|2023-11-20 12:50:...|  192.168.43.9| 54.240.168.61|     TCP|    54|50355  >  443 [AC...|          0.0| [54.0,0.0]|         0|\n",
      "| 10|2023-11-20 12:50:...|  192.168.43.9| 54.240.168.61|     TCP|    54|50355  >  443 [FI...|          0.0| [54.0,0.0]|         0|\n",
      "| 11|2023-11-20 12:50:...| 54.240.168.61|  192.168.43.9|     TCP|    54|443  >  50355 [AC...|          0.0| [54.0,0.0]|         0|\n",
      "| 12|2023-11-20 12:50:...|  192.168.43.9|178.116.21.108|     UDP|   107|6881  >  51413 Le...|          2.0|[107.0,2.0]|         0|\n",
      "| 13|2023-11-20 12:50:...|178.116.21.108|  192.168.43.9|     UDP|    89|51413  >  6881 Le...|          2.0| [89.0,2.0]|         0|\n",
      "| 14|2023-11-20 12:50:...| 84.31.172.230|  192.168.43.9|     UDP|   143|1120  >  6881 Len...|          2.0|[143.0,2.0]|         0|\n",
      "| 15|2023-11-20 12:50:...|  192.168.43.9| 84.31.172.230|     UDP|   338|6881  >  1120 Len...|          2.0|[338.0,2.0]|         0|\n",
      "| 16|2023-11-20 12:50:...| 93.184.220.29|  192.168.43.9|     TCP|    54|80  >  50365 [ACK...|          0.0| [54.0,0.0]|         0|\n",
      "| 17|2023-11-20 12:50:...|  192.168.43.9| 93.184.220.29|     TCP|    54|[TCP ACKed unseen...|          0.0| [54.0,0.0]|         0|\n",
      "| 18|2023-11-20 12:50:...|  192.168.43.9|  192.168.43.1|     DNS|    70|Standard query 0x...|          5.0| [70.0,5.0]|         0|\n",
      "| 19|2023-11-20 12:50:...|  192.168.43.1|  192.168.43.9|     DNS|    86|Standard query re...|          5.0| [86.0,5.0]|         0|\n",
      "| 20|2023-11-20 12:50:...|  192.168.43.9|216.58.208.110|    ICMP|    98|Echo (ping) reque...|          7.0| [98.0,7.0]|         0|\n",
      "+---+--------------------+--------------+--------------+--------+------+--------------------+-------------+-----------+----------+\n",
      "only showing top 20 rows\n",
      "\n"
     ]
    }
   ],
   "source": [
    "# Show results\n",
    "predictions.show()"
   ]
  },
  {
   "cell_type": "code",
   "execution_count": 67,
   "id": "8cf0a10a-a338-444e-b17f-4a5e7cb2a452",
   "metadata": {},
   "outputs": [
    {
     "data": {
      "image/png": "[encoded data removed]",
      "text/plain": [
       "<Figure size 720x432 with 1 Axes>"
      ]
     },
     "metadata": {
      "needs_background": "light"
     },
     "output_type": "display_data"
    }
   ],
   "source": [
    "import matplotlib.pyplot as plt\n",
    "import seaborn as sns\n",
    "\n",
    "pd_predictions = predictions.toPandas()\n",
    "plt.figure(figsize=(10, 6))\n",
    "sns.scatterplot(data=pd_predictions, x='Length', y='ProtocolIndex', hue='prediction', palette='viridis', alpha=0.7)\n",
    "plt.title('Network Traffic Data Clustering')\n",
    "plt.xlabel('Length')\n",
    "plt.ylabel('Protocol Index')\n",
    "plt.legend(title='Cluster')\n",
    "plt.grid(True)\n",
    "plt.show()"
   ]
  },
  {
   "cell_type": "markdown",
   "id": "748fa00f-16c2-49b8-bd66-eac7849b915c",
   "metadata": {},
   "source": [
    "# Deteksi anomali menggunakan IsolationForest"
   ]
  },
  {
   "cell_type": "code",
   "execution_count": 68,
   "id": "ffdd041b-f22e-4a8b-acf4-df557e3d4646",
   "metadata": {},
   "outputs": [],
   "source": [
    "#Isolation forest\n",
    "from sklearn.ensemble import IsolationForest\n",
    "from sklearn.preprocessing import StandardScaler"
   ]
  },
  {
   "cell_type": "code",
   "execution_count": 37,
   "id": "7c6de4d2-8782-4323-92b3-704e92b590ed",
   "metadata": {},
   "outputs": [
    {
     "data": {
      "text/html": [
       "<div>\n",
       "<style scoped>\n",
       "    .dataframe tbody tr th:only-of-type {\n",
       "        vertical-align: middle;\n",
       "    }\n",
       "\n",
       "    .dataframe tbody tr th {\n",
       "        vertical-align: top;\n",
       "    }\n",
       "\n",
       "    .dataframe thead th {\n",
       "        text-align: right;\n",
       "    }\n",
       "</style>\n",
       "<table border=\"1\" class=\"dataframe\">\n",
       "  <thead>\n",
       "    <tr style=\"text-align: right;\">\n",
       "      <th></th>\n",
       "      <th>No.</th>\n",
       "      <th>Time</th>\n",
       "      <th>Source</th>\n",
       "      <th>Destination</th>\n",
       "      <th>Protocol</th>\n",
       "      <th>Length</th>\n",
       "      <th>Info</th>\n",
       "      <th>ProtocolIndex</th>\n",
       "    </tr>\n",
       "  </thead>\n",
       "  <tbody>\n",
       "    <tr>\n",
       "      <th>0</th>\n",
       "      <td>1</td>\n",
       "      <td>2023-11-20 12:50:38.589409</td>\n",
       "      <td>192.168.43.9</td>\n",
       "      <td>178.34.151.191</td>\n",
       "      <td>UDP</td>\n",
       "      <td>146</td>\n",
       "      <td>6881  &gt;  9984 Len=104</td>\n",
       "      <td>2.0</td>\n",
       "    </tr>\n",
       "    <tr>\n",
       "      <th>1</th>\n",
       "      <td>2</td>\n",
       "      <td>2023-11-20 12:50:39.555499</td>\n",
       "      <td>178.34.151.191</td>\n",
       "      <td>192.168.43.9</td>\n",
       "      <td>UDP</td>\n",
       "      <td>359</td>\n",
       "      <td>9984  &gt;  6881 Len=317</td>\n",
       "      <td>2.0</td>\n",
       "    </tr>\n",
       "    <tr>\n",
       "      <th>2</th>\n",
       "      <td>3</td>\n",
       "      <td>2023-11-20 12:50:43.069349</td>\n",
       "      <td>54.240.168.28</td>\n",
       "      <td>192.168.43.9</td>\n",
       "      <td>TLSv1.2</td>\n",
       "      <td>85</td>\n",
       "      <td>Encrypted Alert</td>\n",
       "      <td>3.0</td>\n",
       "    </tr>\n",
       "    <tr>\n",
       "      <th>3</th>\n",
       "      <td>4</td>\n",
       "      <td>2023-11-20 12:50:43.069350</td>\n",
       "      <td>54.240.168.28</td>\n",
       "      <td>192.168.43.9</td>\n",
       "      <td>TCP</td>\n",
       "      <td>54</td>\n",
       "      <td>443  &gt;  50356 [FIN, ACK] Seq=32 Ack=1 Win=124 ...</td>\n",
       "      <td>0.0</td>\n",
       "    </tr>\n",
       "    <tr>\n",
       "      <th>4</th>\n",
       "      <td>5</td>\n",
       "      <td>2023-11-20 12:50:43.069350</td>\n",
       "      <td>54.240.168.61</td>\n",
       "      <td>192.168.43.9</td>\n",
       "      <td>TLSv1.2</td>\n",
       "      <td>100</td>\n",
       "      <td>Application Data</td>\n",
       "      <td>3.0</td>\n",
       "    </tr>\n",
       "  </tbody>\n",
       "</table>\n",
       "</div>"
      ],
      "text/plain": [
       "   No.                       Time          Source     Destination Protocol  \\\n",
       "0    1 2023-11-20 12:50:38.589409    192.168.43.9  178.34.151.191      UDP   \n",
       "1    2 2023-11-20 12:50:39.555499  178.34.151.191    192.168.43.9      UDP   \n",
       "2    3 2023-11-20 12:50:43.069349   54.240.168.28    192.168.43.9  TLSv1.2   \n",
       "3    4 2023-11-20 12:50:43.069350   54.240.168.28    192.168.43.9      TCP   \n",
       "4    5 2023-11-20 12:50:43.069350   54.240.168.61    192.168.43.9  TLSv1.2   \n",
       "\n",
       "   Length                                               Info  ProtocolIndex  \n",
       "0     146                              6881  >  9984 Len=104            2.0  \n",
       "1     359                              9984  >  6881 Len=317            2.0  \n",
       "2      85                                    Encrypted Alert            3.0  \n",
       "3      54  443  >  50356 [FIN, ACK] Seq=32 Ack=1 Win=124 ...            0.0  \n",
       "4     100                                   Application Data            3.0  "
      ]
     },
     "execution_count": 37,
     "metadata": {},
     "output_type": "execute_result"
    }
   ],
   "source": [
    "# Mengubah Spark DataFrame menjadi Pandas DataFrame\n",
    "pandas_df = df.toPandas()\n",
    "pandas_df.head(5)"
   ]
  },
  {
   "cell_type": "code",
   "execution_count": 39,
   "id": "9cc852a1-c546-460a-9e84-569f7f7a37d5",
   "metadata": {},
   "outputs": [
    {
     "data": {
      "text/html": [
       "<div>\n",
       "<style scoped>\n",
       "    .dataframe tbody tr th:only-of-type {\n",
       "        vertical-align: middle;\n",
       "    }\n",
       "\n",
       "    .dataframe tbody tr th {\n",
       "        vertical-align: top;\n",
       "    }\n",
       "\n",
       "    .dataframe thead th {\n",
       "        text-align: right;\n",
       "    }\n",
       "</style>\n",
       "<table border=\"1\" class=\"dataframe\">\n",
       "  <thead>\n",
       "    <tr style=\"text-align: right;\">\n",
       "      <th></th>\n",
       "      <th>Length</th>\n",
       "      <th>ProtocolIndex</th>\n",
       "    </tr>\n",
       "  </thead>\n",
       "  <tbody>\n",
       "    <tr>\n",
       "      <th>0</th>\n",
       "      <td>146</td>\n",
       "      <td>2.0</td>\n",
       "    </tr>\n",
       "    <tr>\n",
       "      <th>1</th>\n",
       "      <td>359</td>\n",
       "      <td>2.0</td>\n",
       "    </tr>\n",
       "    <tr>\n",
       "      <th>2</th>\n",
       "      <td>85</td>\n",
       "      <td>3.0</td>\n",
       "    </tr>\n",
       "    <tr>\n",
       "      <th>3</th>\n",
       "      <td>54</td>\n",
       "      <td>0.0</td>\n",
       "    </tr>\n",
       "    <tr>\n",
       "      <th>4</th>\n",
       "      <td>100</td>\n",
       "      <td>3.0</td>\n",
       "    </tr>\n",
       "  </tbody>\n",
       "</table>\n",
       "</div>"
      ],
      "text/plain": [
       "   Length  ProtocolIndex\n",
       "0     146            2.0\n",
       "1     359            2.0\n",
       "2      85            3.0\n",
       "3      54            0.0\n",
       "4     100            3.0"
      ]
     },
     "execution_count": 39,
     "metadata": {},
     "output_type": "execute_result"
    }
   ],
   "source": [
    "# Menyiapkan data untuk Isolation Forest\n",
    "# Misalkan kita hanya menggunakan 'Length' dan 'ProtocolIndex' sebagai fitur\n",
    "X = pandas_df[['Length', 'ProtocolIndex']]\n",
    "X.head()"
   ]
  },
  {
   "cell_type": "code",
   "execution_count": 41,
   "id": "f9fc00ab-d9f5-41f4-8a6c-2f8a927bbefd",
   "metadata": {},
   "outputs": [
    {
     "data": {
      "text/plain": [
       "array([[-0.86018986,  0.62141138],\n",
       "       [-0.53168823,  0.62141138],\n",
       "       [-0.9542678 ,  1.30172962],\n",
       "       ...,\n",
       "       [-1.00207789, -0.7392251 ],\n",
       "       [-1.00053563, -0.7392251 ],\n",
       "       [-0.98357076, -0.7392251 ]])"
      ]
     },
     "execution_count": 41,
     "metadata": {},
     "output_type": "execute_result"
    }
   ],
   "source": [
    "# Opsional: Skalakan data jika perlu\n",
    "scaler = StandardScaler()\n",
    "X_scaled = scaler.fit_transform(X)\n",
    "X_scaled"
   ]
  },
  {
   "cell_type": "code",
   "execution_count": 42,
   "id": "e53dd1cb-f9fc-401a-933b-a9b7b7957a9d",
   "metadata": {},
   "outputs": [
    {
     "data": {
      "text/plain": [
       "IsolationForest(contamination=0.1, random_state=42)"
      ]
     },
     "execution_count": 42,
     "metadata": {},
     "output_type": "execute_result"
    }
   ],
   "source": [
    "# Membuat dan melatih model Isolation Forest\n",
    "clf = IsolationForest(n_estimators=100, max_samples='auto', contamination=float(0.1), random_state=42)\n",
    "clf.fit(X_scaled)"
   ]
  },
  {
   "cell_type": "code",
   "execution_count": 43,
   "id": "483ca7fa-e6cb-4581-b493-c8ac48959261",
   "metadata": {},
   "outputs": [],
   "source": [
    "# Memprediksi anomali (-1 untuk anomali, 1 untuk normal)\n",
    "pandas_df['anomaly'] = clf.predict(X_scaled)"
   ]
  },
  {
   "cell_type": "code",
   "execution_count": 45,
   "id": "729b9fa6-8647-4812-aa25-bff725bf0332",
   "metadata": {},
   "outputs": [
    {
     "data": {
      "text/html": [
       "<div>\n",
       "<style scoped>\n",
       "    .dataframe tbody tr th:only-of-type {\n",
       "        vertical-align: middle;\n",
       "    }\n",
       "\n",
       "    .dataframe tbody tr th {\n",
       "        vertical-align: top;\n",
       "    }\n",
       "\n",
       "    .dataframe thead th {\n",
       "        text-align: right;\n",
       "    }\n",
       "</style>\n",
       "<table border=\"1\" class=\"dataframe\">\n",
       "  <thead>\n",
       "    <tr style=\"text-align: right;\">\n",
       "      <th></th>\n",
       "      <th>No.</th>\n",
       "      <th>Time</th>\n",
       "      <th>Source</th>\n",
       "      <th>Destination</th>\n",
       "      <th>Protocol</th>\n",
       "      <th>Length</th>\n",
       "      <th>Info</th>\n",
       "      <th>ProtocolIndex</th>\n",
       "      <th>anomaly</th>\n",
       "    </tr>\n",
       "  </thead>\n",
       "  <tbody>\n",
       "    <tr>\n",
       "      <th>0</th>\n",
       "      <td>1</td>\n",
       "      <td>2023-11-20 12:50:38.589409</td>\n",
       "      <td>192.168.43.9</td>\n",
       "      <td>178.34.151.191</td>\n",
       "      <td>UDP</td>\n",
       "      <td>146</td>\n",
       "      <td>6881  &gt;  9984 Len=104</td>\n",
       "      <td>2.0</td>\n",
       "      <td>1</td>\n",
       "    </tr>\n",
       "    <tr>\n",
       "      <th>1</th>\n",
       "      <td>2</td>\n",
       "      <td>2023-11-20 12:50:39.555499</td>\n",
       "      <td>178.34.151.191</td>\n",
       "      <td>192.168.43.9</td>\n",
       "      <td>UDP</td>\n",
       "      <td>359</td>\n",
       "      <td>9984  &gt;  6881 Len=317</td>\n",
       "      <td>2.0</td>\n",
       "      <td>1</td>\n",
       "    </tr>\n",
       "    <tr>\n",
       "      <th>2</th>\n",
       "      <td>3</td>\n",
       "      <td>2023-11-20 12:50:43.069349</td>\n",
       "      <td>54.240.168.28</td>\n",
       "      <td>192.168.43.9</td>\n",
       "      <td>TLSv1.2</td>\n",
       "      <td>85</td>\n",
       "      <td>Encrypted Alert</td>\n",
       "      <td>3.0</td>\n",
       "      <td>1</td>\n",
       "    </tr>\n",
       "    <tr>\n",
       "      <th>3</th>\n",
       "      <td>4</td>\n",
       "      <td>2023-11-20 12:50:43.069350</td>\n",
       "      <td>54.240.168.28</td>\n",
       "      <td>192.168.43.9</td>\n",
       "      <td>TCP</td>\n",
       "      <td>54</td>\n",
       "      <td>443  &gt;  50356 [FIN, ACK] Seq=32 Ack=1 Win=124 ...</td>\n",
       "      <td>0.0</td>\n",
       "      <td>1</td>\n",
       "    </tr>\n",
       "    <tr>\n",
       "      <th>4</th>\n",
       "      <td>5</td>\n",
       "      <td>2023-11-20 12:50:43.069350</td>\n",
       "      <td>54.240.168.61</td>\n",
       "      <td>192.168.43.9</td>\n",
       "      <td>TLSv1.2</td>\n",
       "      <td>100</td>\n",
       "      <td>Application Data</td>\n",
       "      <td>3.0</td>\n",
       "      <td>1</td>\n",
       "    </tr>\n",
       "  </tbody>\n",
       "</table>\n",
       "</div>"
      ],
      "text/plain": [
       "   No.                       Time          Source     Destination Protocol  \\\n",
       "0    1 2023-11-20 12:50:38.589409    192.168.43.9  178.34.151.191      UDP   \n",
       "1    2 2023-11-20 12:50:39.555499  178.34.151.191    192.168.43.9      UDP   \n",
       "2    3 2023-11-20 12:50:43.069349   54.240.168.28    192.168.43.9  TLSv1.2   \n",
       "3    4 2023-11-20 12:50:43.069350   54.240.168.28    192.168.43.9      TCP   \n",
       "4    5 2023-11-20 12:50:43.069350   54.240.168.61    192.168.43.9  TLSv1.2   \n",
       "\n",
       "   Length                                               Info  ProtocolIndex  \\\n",
       "0     146                              6881  >  9984 Len=104            2.0   \n",
       "1     359                              9984  >  6881 Len=317            2.0   \n",
       "2      85                                    Encrypted Alert            3.0   \n",
       "3      54  443  >  50356 [FIN, ACK] Seq=32 Ack=1 Win=124 ...            0.0   \n",
       "4     100                                   Application Data            3.0   \n",
       "\n",
       "   anomaly  \n",
       "0        1  \n",
       "1        1  \n",
       "2        1  \n",
       "3        1  \n",
       "4        1  "
      ]
     },
     "execution_count": 45,
     "metadata": {},
     "output_type": "execute_result"
    }
   ],
   "source": [
    "# Hasilnya bisa Anda analisis lebih lanjut\n",
    "pandas_df.head()"
   ]
  },
  {
   "cell_type": "code",
   "execution_count": 55,
   "id": "0928ed88-958d-4414-849a-b44d348a81e2",
   "metadata": {},
   "outputs": [
    {
     "name": "stdout",
     "output_type": "stream",
     "text": [
      "Jumlah anomali 1512\n"
     ]
    },
    {
     "data": {
      "text/html": [
       "<div>\n",
       "<style scoped>\n",
       "    .dataframe tbody tr th:only-of-type {\n",
       "        vertical-align: middle;\n",
       "    }\n",
       "\n",
       "    .dataframe tbody tr th {\n",
       "        vertical-align: top;\n",
       "    }\n",
       "\n",
       "    .dataframe thead th {\n",
       "        text-align: right;\n",
       "    }\n",
       "</style>\n",
       "<table border=\"1\" class=\"dataframe\">\n",
       "  <thead>\n",
       "    <tr style=\"text-align: right;\">\n",
       "      <th></th>\n",
       "      <th>No.</th>\n",
       "      <th>Time</th>\n",
       "      <th>Source</th>\n",
       "      <th>Destination</th>\n",
       "      <th>Protocol</th>\n",
       "      <th>Length</th>\n",
       "      <th>Info</th>\n",
       "      <th>ProtocolIndex</th>\n",
       "      <th>anomaly</th>\n",
       "    </tr>\n",
       "  </thead>\n",
       "  <tbody>\n",
       "    <tr>\n",
       "      <th>17</th>\n",
       "      <td>18</td>\n",
       "      <td>2023-11-20 12:50:48.249743</td>\n",
       "      <td>192.168.43.9</td>\n",
       "      <td>192.168.43.1</td>\n",
       "      <td>DNS</td>\n",
       "      <td>70</td>\n",
       "      <td>Standard query 0xa530 A google.com</td>\n",
       "      <td>5.0</td>\n",
       "      <td>-1</td>\n",
       "    </tr>\n",
       "    <tr>\n",
       "      <th>19</th>\n",
       "      <td>20</td>\n",
       "      <td>2023-11-20 12:50:48.351843</td>\n",
       "      <td>192.168.43.9</td>\n",
       "      <td>216.58.208.110</td>\n",
       "      <td>ICMP</td>\n",
       "      <td>98</td>\n",
       "      <td>Echo (ping) request  id=0x000c, seq=1/256, ttl...</td>\n",
       "      <td>7.0</td>\n",
       "      <td>-1</td>\n",
       "    </tr>\n",
       "    <tr>\n",
       "      <th>20</th>\n",
       "      <td>21</td>\n",
       "      <td>2023-11-20 12:50:48.388113</td>\n",
       "      <td>216.58.208.110</td>\n",
       "      <td>192.168.43.9</td>\n",
       "      <td>ICMP</td>\n",
       "      <td>98</td>\n",
       "      <td>Echo (ping) reply    id=0x000c, seq=1/256, ttl...</td>\n",
       "      <td>7.0</td>\n",
       "      <td>-1</td>\n",
       "    </tr>\n",
       "    <tr>\n",
       "      <th>22</th>\n",
       "      <td>23</td>\n",
       "      <td>2023-11-20 12:50:48.432082</td>\n",
       "      <td>192.168.43.1</td>\n",
       "      <td>192.168.43.9</td>\n",
       "      <td>DNS</td>\n",
       "      <td>157</td>\n",
       "      <td>Standard query response 0x9f85 PTR 110.208.58....</td>\n",
       "      <td>5.0</td>\n",
       "      <td>-1</td>\n",
       "    </tr>\n",
       "    <tr>\n",
       "      <th>25</th>\n",
       "      <td>26</td>\n",
       "      <td>2023-11-20 12:50:49.352608</td>\n",
       "      <td>192.168.43.9</td>\n",
       "      <td>216.58.208.110</td>\n",
       "      <td>ICMP</td>\n",
       "      <td>98</td>\n",
       "      <td>Echo (ping) request  id=0x000c, seq=2/512, ttl...</td>\n",
       "      <td>7.0</td>\n",
       "      <td>-1</td>\n",
       "    </tr>\n",
       "  </tbody>\n",
       "</table>\n",
       "</div>"
      ],
      "text/plain": [
       "    No.                       Time          Source     Destination Protocol  \\\n",
       "17   18 2023-11-20 12:50:48.249743    192.168.43.9    192.168.43.1      DNS   \n",
       "19   20 2023-11-20 12:50:48.351843    192.168.43.9  216.58.208.110     ICMP   \n",
       "20   21 2023-11-20 12:50:48.388113  216.58.208.110    192.168.43.9     ICMP   \n",
       "22   23 2023-11-20 12:50:48.432082    192.168.43.1    192.168.43.9      DNS   \n",
       "25   26 2023-11-20 12:50:49.352608    192.168.43.9  216.58.208.110     ICMP   \n",
       "\n",
       "    Length                                               Info  ProtocolIndex  \\\n",
       "17      70                 Standard query 0xa530 A google.com            5.0   \n",
       "19      98  Echo (ping) request  id=0x000c, seq=1/256, ttl...            7.0   \n",
       "20      98  Echo (ping) reply    id=0x000c, seq=1/256, ttl...            7.0   \n",
       "22     157  Standard query response 0x9f85 PTR 110.208.58....            5.0   \n",
       "25      98  Echo (ping) request  id=0x000c, seq=2/512, ttl...            7.0   \n",
       "\n",
       "    anomaly  \n",
       "17       -1  \n",
       "19       -1  \n",
       "20       -1  \n",
       "22       -1  \n",
       "25       -1  "
      ]
     },
     "execution_count": 55,
     "metadata": {},
     "output_type": "execute_result"
    }
   ],
   "source": [
    "#Filter data yang diprediksi sebagai anomali\n",
    "\n",
    "anomalies = pandas_df[pandas_df['anomaly'] == -1]\n",
    "print(\"Jumlah anomali\", anomalies['anomaly'].count())\n",
    "anomalies.head()"
   ]
  },
  {
   "cell_type": "code",
   "execution_count": 63,
   "id": "6b1b1c1a-2b34-4535-81bf-5e0f404cac2d",
   "metadata": {},
   "outputs": [
    {
     "data": {
      "image/png": "[encoded data removed]",
      "text/plain": [
       "<Figure size 720x432 with 1 Axes>"
      ]
     },
     "metadata": {
      "needs_background": "light"
     },
     "output_type": "display_data"
    }
   ],
   "source": [
    "import numpy as np\n",
    "import matplotlib.pyplot as plt\n",
    "import seaborn as sns\n",
    "# Updating the visualization to reflect the correct labeling convention: -1 for anomalies, 1 for normal data.\n",
    "\n",
    "# Visualizing the data with adjusted anomaly labels\n",
    "plt.figure(figsize=(10, 6))\n",
    "sns.scatterplot(data=pandas_df, x='Length', y='ProtocolIndex', hue='anomaly', style='anomaly', palette=['blue', 'red'])\n",
    "plt.title('Visualization of Data with Anomalies (Simulated Isolation Forest Results)')\n",
    "plt.xlabel('Length')\n",
    "plt.ylabel('Protocol Index')\n",
    "plt.legend(title='Data Type', labels=['Normal', 'Anomaly'])\n",
    "plt.grid(True)\n",
    "plt.show()"
   ]
  },
  {
   "cell_type": "markdown",
   "id": "a8a16f41-2da1-443e-8bf4-9b91f14fc567",
   "metadata": {},
   "source": [
    "# Prediksi log baru, apakah sebagai anomali atau normal"
   ]
  },
  {
   "cell_type": "code",
   "execution_count": 77,
   "id": "cf335805-33d4-4ae2-aaba-13a23e977037",
   "metadata": {},
   "outputs": [
    {
     "data": {
      "text/html": [
       "<div>\n",
       "<style scoped>\n",
       "    .dataframe tbody tr th:only-of-type {\n",
       "        vertical-align: middle;\n",
       "    }\n",
       "\n",
       "    .dataframe tbody tr th {\n",
       "        vertical-align: top;\n",
       "    }\n",
       "\n",
       "    .dataframe thead th {\n",
       "        text-align: right;\n",
       "    }\n",
       "</style>\n",
       "<table border=\"1\" class=\"dataframe\">\n",
       "  <thead>\n",
       "    <tr style=\"text-align: right;\">\n",
       "      <th></th>\n",
       "      <th>Length</th>\n",
       "      <th>Protocol</th>\n",
       "    </tr>\n",
       "  </thead>\n",
       "  <tbody>\n",
       "    <tr>\n",
       "      <th>0</th>\n",
       "      <td>150</td>\n",
       "      <td>2</td>\n",
       "    </tr>\n",
       "  </tbody>\n",
       "</table>\n",
       "</div>"
      ],
      "text/plain": [
       "   Length  Protocol\n",
       "0     150         2"
      ]
     },
     "execution_count": 77,
     "metadata": {},
     "output_type": "execute_result"
    }
   ],
   "source": [
    "#Memprediksi log baru menggunakan model yang telah dilatih\n",
    "# Asumsikan data log asli memiliki fitur 'Length', 'ProtocolIndex', dan lainnya\n",
    "# Berikut adalah contoh membuat satu entri log baru\n",
    "new_log = pd.DataFrame({\n",
    "    'Length': [150],  # Contoh panjang paket\n",
    "    'Protocol': [2],  # Contoh indeks protokol (misalnya, 2 bisa mewakili TCP)\n",
    "    # Tambahkan fitur lainnya sesuai dengan data asli Anda\n",
    "})\n",
    "\n",
    "new_log\n",
    "\n"
   ]
  },
  {
   "cell_type": "code",
   "execution_count": 78,
   "id": "3368ad6f-b8d6-460c-9bd3-b19dc3c6f122",
   "metadata": {},
   "outputs": [
    {
     "name": "stderr",
     "output_type": "stream",
     "text": [
      "/Users/macbook/opt/anaconda3/lib/python3.9/site-packages/sklearn/base.py:443: UserWarning: X has feature names, but IsolationForest was fitted without feature names\n",
      "  warnings.warn(\n"
     ]
    }
   ],
   "source": [
    "# Memprediksi dengan model isolation forest\n",
    "prediction = clf.predict(new_log)"
   ]
  },
  {
   "cell_type": "code",
   "execution_count": 79,
   "id": "30d83084-8521-41cc-aac4-acf29e2e8de2",
   "metadata": {},
   "outputs": [
    {
     "name": "stdout",
     "output_type": "stream",
     "text": [
      "Log ini adalah normal.\n"
     ]
    }
   ],
   "source": [
    "# Interpretasi hasil\n",
    "if prediction == -1:\n",
    "    print(\"Log ini adalah anomali.\")\n",
    "else:\n",
    "    print(\"Log ini adalah normal.\")"
   ]
  },
  {
   "cell_type": "markdown",
   "id": "1a72510b-de71-4b28-8b4c-be7554ee4ef3",
   "metadata": {},
   "source": [
    "# Menyimpan dan load model"
   ]
  },
  {
   "cell_type": "code",
   "execution_count": 80,
   "id": "c0073210-b261-457d-9048-adbb085bc1a8",
   "metadata": {},
   "outputs": [],
   "source": [
    "#Menyimpan model agar dapat digunakan dikemudian hari\n",
    "import pickle\n",
    "\n",
    "with open('anomali_detection_model.pkl', 'wb') as file:\n",
    "    pickle.dump(clf, file)"
   ]
  },
  {
   "cell_type": "code",
   "execution_count": 82,
   "id": "29ef7a9c-72b4-429a-933c-ff1a13c1d2d6",
   "metadata": {},
   "outputs": [],
   "source": [
    "#Membuat kembali model untuk digunakan\n",
    "with open('anomali_detection_model.pkl', 'rb') as file:\n",
    "    anomalidetection = pickle.load(file)\n"
   ]
  },
  {
   "cell_type": "code",
   "execution_count": 83,
   "id": "572a9b53-a40b-4dde-858a-fa06da0a48e3",
   "metadata": {},
   "outputs": [
    {
     "name": "stderr",
     "output_type": "stream",
     "text": [
      "/Users/macbook/opt/anaconda3/lib/python3.9/site-packages/sklearn/base.py:443: UserWarning: X has feature names, but IsolationForest was fitted without feature names\n",
      "  warnings.warn(\n"
     ]
    }
   ],
   "source": [
    "# Memprediksi dengan model isolation forest dari model yang telah disimpan\n",
    "prediction = anomalidetection.predict(new_log)"
   ]
  },
  {
   "cell_type": "code",
   "execution_count": 84,
   "id": "1e99289f-5a43-4e66-a382-b5a9bf91447c",
   "metadata": {},
   "outputs": [
    {
     "name": "stdout",
     "output_type": "stream",
     "text": [
      "Log ini adalah normal.\n"
     ]
    }
   ],
   "source": [
    "# Interpretasi hasil\n",
    "if prediction == -1:\n",
    "    print(\"Log ini adalah anomali.\")\n",
    "else:\n",
    "    print(\"Log ini adalah normal.\")"
   ]
  },
  {
   "cell_type": "code",
   "execution_count": null,
   "id": "253f46ef-a5bf-4476-b109-02c006054792",
   "metadata": {},
   "outputs": [],
   "source": []
  }
 ],
 "metadata": {
  "kernelspec": {
   "display_name": "Python 3 (ipykernel)",
   "language": "python",
   "name": "python3"
  },
  "language_info": {
   "codemirror_mode": {
    "name": "ipython",
    "version": 3
   },
   "file_extension": ".py",
   "mimetype": "text/x-python",
   "name": "python",
   "nbconvert_exporter": "python",
   "pygments_lexer": "ipython3",
   "version": "3.9.12"
  }
 },
 "nbformat": 4,
 "nbformat_minor": 5
}
